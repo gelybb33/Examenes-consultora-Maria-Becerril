{
  "nbformat": 4,
  "nbformat_minor": 0,
  "metadata": {
    "colab": {
      "provenance": [],
      "authorship_tag": "ABX9TyMu+LVuXUCrs5DBpcCW/OHV",
      "include_colab_link": true
    },
    "kernelspec": {
      "name": "python3",
      "display_name": "Python 3"
    },
    "language_info": {
      "name": "python"
    }
  },
  "cells": [
    {
      "cell_type": "markdown",
      "metadata": {
        "id": "view-in-github",
        "colab_type": "text"
      },
      "source": [
        "<a href=\"https://colab.research.google.com/github/gelybb33/Examenes-consultora-Maria-Becerril/blob/main/Examen%20python.ipynb\" target=\"_parent\"><img src=\"https://colab.research.google.com/assets/colab-badge.svg\" alt=\"Open In Colab\"/></a>"
      ]
    },
    {
      "cell_type": "markdown",
      "source": [
        "# 1. ¿Cuál es la diferencia entre una lista y una tupla?\n",
        "\n",
        "Lista (list): mutable → la puedes cambiar (agregar, quitar, reordenar).   Usa corchetes\n",
        "Tupla (tuple): inmutable → una vez creada, no se puede modificar. Usa paréntesis"
      ],
      "metadata": {
        "id": "Vz5ZPFoCaXmB"
      }
    },
    {
      "cell_type": "code",
      "source": [
        "# Ejemplo\n",
        "# Lista: corchetes []\n",
        "nums = [0, 1, 10]\n",
        "\n",
        "# Tupla: paréntesis ()\n",
        "punto = (1, 2)\n",
        "version = 1, 4, 2\n",
        "\n",
        "# Tupla de un solo elemento\n",
        "uno = (1,)\n",
        "no_tupla = (1)\n",
        "\n",
        "# Ambas se pueden hacer data frames\n",
        "import pandas as pd\n",
        "df1 = pd.DataFrame(nums, columns=[\"valor\"])\n",
        "df2 = pd.DataFrame(version, columns=[\"valor\"])\n"
      ],
      "metadata": {
        "colab": {
          "base_uri": "https://localhost:8080/",
          "height": 143
        },
        "id": "cuJPFnxEcqJJ",
        "outputId": "a3edb4f1-d056-4edf-dea1-90e1f3a7c438"
      },
      "execution_count": 6,
      "outputs": [
        {
          "output_type": "execute_result",
          "data": {
            "text/plain": [
              "   valor\n",
              "0      1\n",
              "1      4\n",
              "2      2"
            ],
            "text/html": [
              "\n",
              "  <div id=\"df-475388ac-f660-495b-87b6-246eadd4b321\" class=\"colab-df-container\">\n",
              "    <div>\n",
              "<style scoped>\n",
              "    .dataframe tbody tr th:only-of-type {\n",
              "        vertical-align: middle;\n",
              "    }\n",
              "\n",
              "    .dataframe tbody tr th {\n",
              "        vertical-align: top;\n",
              "    }\n",
              "\n",
              "    .dataframe thead th {\n",
              "        text-align: right;\n",
              "    }\n",
              "</style>\n",
              "<table border=\"1\" class=\"dataframe\">\n",
              "  <thead>\n",
              "    <tr style=\"text-align: right;\">\n",
              "      <th></th>\n",
              "      <th>valor</th>\n",
              "    </tr>\n",
              "  </thead>\n",
              "  <tbody>\n",
              "    <tr>\n",
              "      <th>0</th>\n",
              "      <td>1</td>\n",
              "    </tr>\n",
              "    <tr>\n",
              "      <th>1</th>\n",
              "      <td>4</td>\n",
              "    </tr>\n",
              "    <tr>\n",
              "      <th>2</th>\n",
              "      <td>2</td>\n",
              "    </tr>\n",
              "  </tbody>\n",
              "</table>\n",
              "</div>\n",
              "    <div class=\"colab-df-buttons\">\n",
              "\n",
              "  <div class=\"colab-df-container\">\n",
              "    <button class=\"colab-df-convert\" onclick=\"convertToInteractive('df-475388ac-f660-495b-87b6-246eadd4b321')\"\n",
              "            title=\"Convert this dataframe to an interactive table.\"\n",
              "            style=\"display:none;\">\n",
              "\n",
              "  <svg xmlns=\"http://www.w3.org/2000/svg\" height=\"24px\" viewBox=\"0 -960 960 960\">\n",
              "    <path d=\"M120-120v-720h720v720H120Zm60-500h600v-160H180v160Zm220 220h160v-160H400v160Zm0 220h160v-160H400v160ZM180-400h160v-160H180v160Zm440 0h160v-160H620v160ZM180-180h160v-160H180v160Zm440 0h160v-160H620v160Z\"/>\n",
              "  </svg>\n",
              "    </button>\n",
              "\n",
              "  <style>\n",
              "    .colab-df-container {\n",
              "      display:flex;\n",
              "      gap: 12px;\n",
              "    }\n",
              "\n",
              "    .colab-df-convert {\n",
              "      background-color: #E8F0FE;\n",
              "      border: none;\n",
              "      border-radius: 50%;\n",
              "      cursor: pointer;\n",
              "      display: none;\n",
              "      fill: #1967D2;\n",
              "      height: 32px;\n",
              "      padding: 0 0 0 0;\n",
              "      width: 32px;\n",
              "    }\n",
              "\n",
              "    .colab-df-convert:hover {\n",
              "      background-color: #E2EBFA;\n",
              "      box-shadow: 0px 1px 2px rgba(60, 64, 67, 0.3), 0px 1px 3px 1px rgba(60, 64, 67, 0.15);\n",
              "      fill: #174EA6;\n",
              "    }\n",
              "\n",
              "    .colab-df-buttons div {\n",
              "      margin-bottom: 4px;\n",
              "    }\n",
              "\n",
              "    [theme=dark] .colab-df-convert {\n",
              "      background-color: #3B4455;\n",
              "      fill: #D2E3FC;\n",
              "    }\n",
              "\n",
              "    [theme=dark] .colab-df-convert:hover {\n",
              "      background-color: #434B5C;\n",
              "      box-shadow: 0px 1px 3px 1px rgba(0, 0, 0, 0.15);\n",
              "      filter: drop-shadow(0px 1px 2px rgba(0, 0, 0, 0.3));\n",
              "      fill: #FFFFFF;\n",
              "    }\n",
              "  </style>\n",
              "\n",
              "    <script>\n",
              "      const buttonEl =\n",
              "        document.querySelector('#df-475388ac-f660-495b-87b6-246eadd4b321 button.colab-df-convert');\n",
              "      buttonEl.style.display =\n",
              "        google.colab.kernel.accessAllowed ? 'block' : 'none';\n",
              "\n",
              "      async function convertToInteractive(key) {\n",
              "        const element = document.querySelector('#df-475388ac-f660-495b-87b6-246eadd4b321');\n",
              "        const dataTable =\n",
              "          await google.colab.kernel.invokeFunction('convertToInteractive',\n",
              "                                                    [key], {});\n",
              "        if (!dataTable) return;\n",
              "\n",
              "        const docLinkHtml = 'Like what you see? Visit the ' +\n",
              "          '<a target=\"_blank\" href=https://colab.research.google.com/notebooks/data_table.ipynb>data table notebook</a>'\n",
              "          + ' to learn more about interactive tables.';\n",
              "        element.innerHTML = '';\n",
              "        dataTable['output_type'] = 'display_data';\n",
              "        await google.colab.output.renderOutput(dataTable, element);\n",
              "        const docLink = document.createElement('div');\n",
              "        docLink.innerHTML = docLinkHtml;\n",
              "        element.appendChild(docLink);\n",
              "      }\n",
              "    </script>\n",
              "  </div>\n",
              "\n",
              "\n",
              "    <div id=\"df-ad8b65b0-a741-49e0-a204-35324c70665d\">\n",
              "      <button class=\"colab-df-quickchart\" onclick=\"quickchart('df-ad8b65b0-a741-49e0-a204-35324c70665d')\"\n",
              "                title=\"Suggest charts\"\n",
              "                style=\"display:none;\">\n",
              "\n",
              "<svg xmlns=\"http://www.w3.org/2000/svg\" height=\"24px\"viewBox=\"0 0 24 24\"\n",
              "     width=\"24px\">\n",
              "    <g>\n",
              "        <path d=\"M19 3H5c-1.1 0-2 .9-2 2v14c0 1.1.9 2 2 2h14c1.1 0 2-.9 2-2V5c0-1.1-.9-2-2-2zM9 17H7v-7h2v7zm4 0h-2V7h2v10zm4 0h-2v-4h2v4z\"/>\n",
              "    </g>\n",
              "</svg>\n",
              "      </button>\n",
              "\n",
              "<style>\n",
              "  .colab-df-quickchart {\n",
              "      --bg-color: #E8F0FE;\n",
              "      --fill-color: #1967D2;\n",
              "      --hover-bg-color: #E2EBFA;\n",
              "      --hover-fill-color: #174EA6;\n",
              "      --disabled-fill-color: #AAA;\n",
              "      --disabled-bg-color: #DDD;\n",
              "  }\n",
              "\n",
              "  [theme=dark] .colab-df-quickchart {\n",
              "      --bg-color: #3B4455;\n",
              "      --fill-color: #D2E3FC;\n",
              "      --hover-bg-color: #434B5C;\n",
              "      --hover-fill-color: #FFFFFF;\n",
              "      --disabled-bg-color: #3B4455;\n",
              "      --disabled-fill-color: #666;\n",
              "  }\n",
              "\n",
              "  .colab-df-quickchart {\n",
              "    background-color: var(--bg-color);\n",
              "    border: none;\n",
              "    border-radius: 50%;\n",
              "    cursor: pointer;\n",
              "    display: none;\n",
              "    fill: var(--fill-color);\n",
              "    height: 32px;\n",
              "    padding: 0;\n",
              "    width: 32px;\n",
              "  }\n",
              "\n",
              "  .colab-df-quickchart:hover {\n",
              "    background-color: var(--hover-bg-color);\n",
              "    box-shadow: 0 1px 2px rgba(60, 64, 67, 0.3), 0 1px 3px 1px rgba(60, 64, 67, 0.15);\n",
              "    fill: var(--button-hover-fill-color);\n",
              "  }\n",
              "\n",
              "  .colab-df-quickchart-complete:disabled,\n",
              "  .colab-df-quickchart-complete:disabled:hover {\n",
              "    background-color: var(--disabled-bg-color);\n",
              "    fill: var(--disabled-fill-color);\n",
              "    box-shadow: none;\n",
              "  }\n",
              "\n",
              "  .colab-df-spinner {\n",
              "    border: 2px solid var(--fill-color);\n",
              "    border-color: transparent;\n",
              "    border-bottom-color: var(--fill-color);\n",
              "    animation:\n",
              "      spin 1s steps(1) infinite;\n",
              "  }\n",
              "\n",
              "  @keyframes spin {\n",
              "    0% {\n",
              "      border-color: transparent;\n",
              "      border-bottom-color: var(--fill-color);\n",
              "      border-left-color: var(--fill-color);\n",
              "    }\n",
              "    20% {\n",
              "      border-color: transparent;\n",
              "      border-left-color: var(--fill-color);\n",
              "      border-top-color: var(--fill-color);\n",
              "    }\n",
              "    30% {\n",
              "      border-color: transparent;\n",
              "      border-left-color: var(--fill-color);\n",
              "      border-top-color: var(--fill-color);\n",
              "      border-right-color: var(--fill-color);\n",
              "    }\n",
              "    40% {\n",
              "      border-color: transparent;\n",
              "      border-right-color: var(--fill-color);\n",
              "      border-top-color: var(--fill-color);\n",
              "    }\n",
              "    60% {\n",
              "      border-color: transparent;\n",
              "      border-right-color: var(--fill-color);\n",
              "    }\n",
              "    80% {\n",
              "      border-color: transparent;\n",
              "      border-right-color: var(--fill-color);\n",
              "      border-bottom-color: var(--fill-color);\n",
              "    }\n",
              "    90% {\n",
              "      border-color: transparent;\n",
              "      border-bottom-color: var(--fill-color);\n",
              "    }\n",
              "  }\n",
              "</style>\n",
              "\n",
              "      <script>\n",
              "        async function quickchart(key) {\n",
              "          const quickchartButtonEl =\n",
              "            document.querySelector('#' + key + ' button');\n",
              "          quickchartButtonEl.disabled = true;  // To prevent multiple clicks.\n",
              "          quickchartButtonEl.classList.add('colab-df-spinner');\n",
              "          try {\n",
              "            const charts = await google.colab.kernel.invokeFunction(\n",
              "                'suggestCharts', [key], {});\n",
              "          } catch (error) {\n",
              "            console.error('Error during call to suggestCharts:', error);\n",
              "          }\n",
              "          quickchartButtonEl.classList.remove('colab-df-spinner');\n",
              "          quickchartButtonEl.classList.add('colab-df-quickchart-complete');\n",
              "        }\n",
              "        (() => {\n",
              "          let quickchartButtonEl =\n",
              "            document.querySelector('#df-ad8b65b0-a741-49e0-a204-35324c70665d button');\n",
              "          quickchartButtonEl.style.display =\n",
              "            google.colab.kernel.accessAllowed ? 'block' : 'none';\n",
              "        })();\n",
              "      </script>\n",
              "    </div>\n",
              "\n",
              "  <div id=\"id_a745cf1f-e1d1-4680-94ce-5f78a6dcb568\">\n",
              "    <style>\n",
              "      .colab-df-generate {\n",
              "        background-color: #E8F0FE;\n",
              "        border: none;\n",
              "        border-radius: 50%;\n",
              "        cursor: pointer;\n",
              "        display: none;\n",
              "        fill: #1967D2;\n",
              "        height: 32px;\n",
              "        padding: 0 0 0 0;\n",
              "        width: 32px;\n",
              "      }\n",
              "\n",
              "      .colab-df-generate:hover {\n",
              "        background-color: #E2EBFA;\n",
              "        box-shadow: 0px 1px 2px rgba(60, 64, 67, 0.3), 0px 1px 3px 1px rgba(60, 64, 67, 0.15);\n",
              "        fill: #174EA6;\n",
              "      }\n",
              "\n",
              "      [theme=dark] .colab-df-generate {\n",
              "        background-color: #3B4455;\n",
              "        fill: #D2E3FC;\n",
              "      }\n",
              "\n",
              "      [theme=dark] .colab-df-generate:hover {\n",
              "        background-color: #434B5C;\n",
              "        box-shadow: 0px 1px 3px 1px rgba(0, 0, 0, 0.15);\n",
              "        filter: drop-shadow(0px 1px 2px rgba(0, 0, 0, 0.3));\n",
              "        fill: #FFFFFF;\n",
              "      }\n",
              "    </style>\n",
              "    <button class=\"colab-df-generate\" onclick=\"generateWithVariable('df2')\"\n",
              "            title=\"Generate code using this dataframe.\"\n",
              "            style=\"display:none;\">\n",
              "\n",
              "  <svg xmlns=\"http://www.w3.org/2000/svg\" height=\"24px\"viewBox=\"0 0 24 24\"\n",
              "       width=\"24px\">\n",
              "    <path d=\"M7,19H8.4L18.45,9,17,7.55,7,17.6ZM5,21V16.75L18.45,3.32a2,2,0,0,1,2.83,0l1.4,1.43a1.91,1.91,0,0,1,.58,1.4,1.91,1.91,0,0,1-.58,1.4L9.25,21ZM18.45,9,17,7.55Zm-12,3A5.31,5.31,0,0,0,4.9,8.1,5.31,5.31,0,0,0,1,6.5,5.31,5.31,0,0,0,4.9,4.9,5.31,5.31,0,0,0,6.5,1,5.31,5.31,0,0,0,8.1,4.9,5.31,5.31,0,0,0,12,6.5,5.46,5.46,0,0,0,6.5,12Z\"/>\n",
              "  </svg>\n",
              "    </button>\n",
              "    <script>\n",
              "      (() => {\n",
              "      const buttonEl =\n",
              "        document.querySelector('#id_a745cf1f-e1d1-4680-94ce-5f78a6dcb568 button.colab-df-generate');\n",
              "      buttonEl.style.display =\n",
              "        google.colab.kernel.accessAllowed ? 'block' : 'none';\n",
              "\n",
              "      buttonEl.onclick = () => {\n",
              "        google.colab.notebook.generateWithVariable('df2');\n",
              "      }\n",
              "      })();\n",
              "    </script>\n",
              "  </div>\n",
              "\n",
              "    </div>\n",
              "  </div>\n"
            ],
            "application/vnd.google.colaboratory.intrinsic+json": {
              "type": "dataframe",
              "variable_name": "df2",
              "summary": "{\n  \"name\": \"df2\",\n  \"rows\": 3,\n  \"fields\": [\n    {\n      \"column\": \"valor\",\n      \"properties\": {\n        \"dtype\": \"number\",\n        \"std\": 1,\n        \"min\": 1,\n        \"max\": 4,\n        \"num_unique_values\": 3,\n        \"samples\": [\n          1,\n          4,\n          2\n        ],\n        \"semantic_type\": \"\",\n        \"description\": \"\"\n      }\n    }\n  ]\n}"
            }
          },
          "metadata": {},
          "execution_count": 6
        }
      ]
    },
    {
      "cell_type": "markdown",
      "source": [
        "2. ¿Cómo funciona el manejo de excepciones en Python? Da un ejemplo.\n",
        "una excepción es un proceso del código que interrumpe el flujo normal del programa y en el resultado se refleja como error. Por lo que, el manejo de excepciones es la declaración de esas excepciones (o errores) para que no se interrumpa el flujo normal del programa (por ejemplo, dividir entre cero o leer un archivo inexistente, encontrar nulos ... )."
      ],
      "metadata": {
        "id": "j9tvGoCwaajO"
      }
    },
    {
      "cell_type": "code",
      "source": [
        "#Ejemplo: Encuentra si existen nulos, cuando se esta cargando un data frame\n",
        "import pandas as pd\n",
        "\n",
        "def cargar_y_validar(archivo_csv, columnas_obligatorias):\n",
        "    try:\n",
        "        df = pd.read_csv(archivo_csv)\n",
        "\n",
        "      # Verifica nulos en las columnas requeridas\n",
        "        for col in columnas_obligatorias:\n",
        "            n_nulos = df[col].isna().sum()  # el isna se usa para detectar NaN/None\n",
        "            if n_nulos > 0:\n",
        "                raise ValueError(f\"La columna '{col}' tiene {n_nulos} valores nulos.\")\n",
        "\n",
        "        return df\n",
        "\n",
        "    except (KeyError, ValueError) as e:\n",
        "\n",
        "        print(f\"Error de validación de datos: {e}\")\n",
        "\n"
      ],
      "metadata": {
        "id": "crGPQqg-lftK"
      },
      "execution_count": null,
      "outputs": []
    },
    {
      "cell_type": "markdown",
      "source": [
        "3. ¿Qué imprime este código y por qué?\n",
        "x = [1, 2, 3]\n",
        "y = x y.append(4)\n",
        "print(x)"
      ],
      "metadata": {
        "id": "1hg6NYcRabJG"
      }
    },
    {
      "cell_type": "code",
      "source": [
        "import pandas as pd\n",
        "x = [1, 2, 3]\n",
        "y = x\n",
        "y.append(4)\n",
        "print(x)\n",
        "#En la x se declara una lista de 3 valores, luego se indica que y va a tener los valores de x,\n",
        "#con el append(4), esta indicando que se agrega el 4 al final de la lista y\n",
        "# se imprime el valor de x o y ya que se declaro anteriormente que ambas tienen el mismo objeto\n"
      ],
      "metadata": {
        "colab": {
          "base_uri": "https://localhost:8080/"
        },
        "id": "c7UWlSzynnX1",
        "outputId": "db643672-5d32-4c84-8ced-16ad52c88357"
      },
      "execution_count": 9,
      "outputs": [
        {
          "output_type": "stream",
          "name": "stdout",
          "text": [
            "[1, 2, 3, 4]\n"
          ]
        }
      ]
    },
    {
      "cell_type": "markdown",
      "source": [
        "4. Escribe una función que reciba una lista y devuelva solo los números pares."
      ],
      "metadata": {
        "id": "Ki8S9cdUaa3t"
      }
    },
    {
      "cell_type": "code",
      "source": [
        "# Ejemplo Pares\n",
        "def solo_pares(lista):\n",
        "    return [n for n in lista if n % 2 == 0]\n",
        "\n",
        "\n",
        "nums = [1, 2, 3, 4, 5, 6,20,22,7,14,9,89,87,88,97,96]\n",
        "print(solo_pares(nums))"
      ],
      "metadata": {
        "colab": {
          "base_uri": "https://localhost:8080/"
        },
        "id": "h-g6OYv5pgaN",
        "outputId": "1c1d4eb1-c373-4db1-9c9e-d591841d7773"
      },
      "execution_count": 11,
      "outputs": [
        {
          "output_type": "stream",
          "name": "stdout",
          "text": [
            "[2, 4, 6, 20, 22, 14, 88, 96]\n"
          ]
        }
      ]
    },
    {
      "cell_type": "markdown",
      "source": [
        "5. ¿Qué es una función lambda? Da un ejemplo.\n",
        "Lambda es una función pequeña que no necesita declararse con un def antecesor es utilizada para definir funciones pequeñas o tareas específicas. Se utiliza en aplicaciones como el análisis de datos, para tareas como el procesamiento rápido de arreglo. En otros programas he visto que tambien es es utilizada para automatizar modelos ..."
      ],
      "metadata": {
        "id": "AZp-FbX9abb4"
      }
    },
    {
      "cell_type": "code",
      "source": [
        "#Ejemplo Lambda\n",
        "# lambda argumentos: expresión\n",
        "#Tomando el ejemplo de los pares\n",
        "\n",
        "nums = [1, 2, 3, 4, 5, 6,20,22,7,14,9,89,87,88,97,96,100,110]\n",
        "pares = list(filter(lambda n: n % 2 == 0, nums))\n",
        "print(pares)\n",
        "#Lo que hace lambda es devolver true para los pares y false para los impares, con ayuda del filter nos quedamos solo con los true\n"
      ],
      "metadata": {
        "colab": {
          "base_uri": "https://localhost:8080/"
        },
        "id": "8wNSuOPEsYNP",
        "outputId": "bb4c9671-8151-4ecb-bf42-76f8426969d4"
      },
      "execution_count": 12,
      "outputs": [
        {
          "output_type": "stream",
          "name": "stdout",
          "text": [
            "[2, 4, 6, 20, 22, 14, 88, 96, 100, 110]\n"
          ]
        }
      ]
    },
    {
      "cell_type": "markdown",
      "source": [
        "6. ¿Cómo leerías un archivo CSV en Python?"
      ],
      "metadata": {
        "id": "zIIYAfRHabwT"
      }
    },
    {
      "cell_type": "code",
      "source": [
        "#Ejemplo para leer archivos csv con pandas\n",
        "import pandas as pd\n",
        "\n",
        "df = pd.read_csv(\"archivo.csv\")\n",
        "# Para ver los primeros renglones\n",
        "df.head()\n",
        "\n",
        "\n",
        "# Desde una URL\n",
        "df = pd.read_csv(\"https://example.com/datos.csv\")\n",
        "\n",
        "# Delimitadores distintos sep=\";\" o sep=\"|\")\n",
        "df = pd.read_csv(\"datos_puntoycoma.csv\", sep=\";\")\n"
      ],
      "metadata": {
        "id": "D6OLLwuSxt-6"
      },
      "execution_count": null,
      "outputs": []
    },
    {
      "cell_type": "markdown",
      "source": [
        "7. ¿Qué es un DataFrame en PySpark?\n",
        "Un DataFrame de PySpark es muy similar a un Data Frame en Pandas, es una tabla distribuida con filas y columnas con nombres y tipos de datos. A diferencia del Data Frame con Pandas, PySpark usa grandes volúmenes de datos en cluster.\n",
        "Cada columna tiene un tipo (IntegerType, StringType, etc.).\n",
        "Cada transformación crea un nuevo DataFrame.\n",
        "Puedes consultar con lenguaje sql spark.sql como si fuera una tabla."
      ],
      "metadata": {
        "id": "oVDusyqJbSqp"
      }
    },
    {
      "cell_type": "markdown",
      "source": [
        "\n",
        "8. ¿Cómo se crea una SparkSession y para qué sirve?"
      ],
      "metadata": {
        "id": "uL7EBJv6bTAw"
      }
    },
    {
      "cell_type": "code",
      "source": [
        "#Se importan las librerias\n",
        "from pyspark.sql import SparkSession\n",
        "from pyspark.sql import functions as F\n",
        "from pyspark.sql.types import StructType, StructField, IntegerType, StringType\n",
        "\n",
        "# 1) Crear la SparkSession\n",
        "spark = SparkSession.builder \\\n",
        "    .appName(\"EjemploDataFrame\") \\\n",
        "    .master(\"local[*]\") \\\n",
        "    .getOrCreate()\n",
        "\n",
        "#La sesion sirve para encender y configurar el “motor” de Spark: define dónde y cómo se ejecutan tus jobs,\n",
        "#te da la API de DataFrame/SQL y controla la configuración que usarán todas tus operaciones.\n",
        "# Sin ella, el resto de la aplicación Spark no puede funcionar.\n",
        "\n",
        "#Explicando funcion por funcion de la SparkSession\n",
        "#1. spark.read / spark.write para leer/escribir CSV, Parquet ...\n",
        "\n",
        "#2. spark.sql(...) para consultas SQL sobre DataFrames o tablas.\n",
        "\n",
        "#3. SparkContext spark.sparkContext es el “motor” de bajo nivel (RDD, broadcast, accumulators).\n",
        "#La SparkSession lo contiene y coordina ejecutores y recursos del cluster.\n",
        "#Esquema y optimizador\n",
        "#4. Puedes crear subsesiones con spark.newSession() para aislar config SQL\n",
        "#5- Sparkbuilder lo usas al inicio para configurar y crear la sesión principal de Spark.\n",
        "#Con él defines nombre de la app, dónde correr (local/cluster) y parámetros de configuración,\n",
        "#y al final llamas a .getOrCreate() para obtener la sesión"
      ],
      "metadata": {
        "id": "et5NAqK-56K-"
      },
      "execution_count": null,
      "outputs": []
    },
    {
      "cell_type": "markdown",
      "source": [
        "9. ¿Cómo se agregan columnas calculadas en un DataFrame y qué librería se emplea?"
      ],
      "metadata": {
        "id": "DsjJK4d7beNr"
      }
    },
    {
      "cell_type": "code",
      "source": [
        "# Para agregar columnas calculadas Un DataFrame de Spark usamos la librería pyspark.sql.functions\n",
        " #(normalmente importada como F) y el método .withColumn().\n",
        " #Ejemplo\n",
        " #1) Se crea una sesión de Spark\n",
        "from pyspark.sql import SparkSession\n",
        "from pyspark.sql import functions as F\n",
        "\n",
        "spark = SparkSession.builder.appName(\"EjemploColumnasCalculadas\").getOrCreate()\n",
        "\n",
        "# 2) Crear un DataFrame de ejemplo con id y calificaciones\n",
        "data = [\n",
        "    (100, 80, 50),\n",
        "    (200, 70, 50)\n",
        "]\n",
        "df = spark.createDataFrame(data, [\"id\", \"math\", \"english\"])\n",
        "\n",
        "# Agregar un promedio simple\n",
        "df = df.withColumn(\"avg_score\", (F.col(\"math\") + F.col(\"english\")) / 2)\n",
        "#Se agrega una columna con el promedio de las calificaciones\n",
        "#Con el F.col hace referencia a una columna.\n",
        "#Se usa .withColumn(nuevo_nombre, expresión) para crear o reemplazar una columna.\n"
      ],
      "metadata": {
        "id": "Y0yzhIiG6CcE"
      },
      "execution_count": null,
      "outputs": []
    },
    {
      "cell_type": "markdown",
      "source": [
        "10. ¿Cómo se hace un join entre dos DataFrames? ¿Qué tipos de joins hay disponibles?"
      ],
      "metadata": {
        "id": "QmmBvFl8beh2"
      }
    },
    {
      "cell_type": "code",
      "source": [
        "# EJEMPLO INNER\n",
        "from pyspark.sql import SparkSession, functions as F\n",
        "\n",
        "spark = SparkSession.builder.appName(\"JoinsEjemplo\").getOrCreate()\n",
        "\n",
        "# Se crea la tabla de clientes y ordenes para su respectivo cruce\n",
        "clientes = spark.createDataFrame(\n",
        "    [(1, \"Ana\"), (2, \"Luis\"), (3, \"Sofía\")],\n",
        "    [\"id_cliente\", \"nombre\"]\n",
        ")\n",
        "\n",
        "ordenes = spark.createDataFrame(\n",
        "    [(10, 1, 300.0),\n",
        "     (11, 1, 150.0),\n",
        "     (12, 4, 500.0)],\n",
        "    [\"id_orden\", \"id_cliente\", \"monto\"]\n",
        ")\n",
        "\n",
        "# 1) INNER JOIN\n",
        "inner_df = clientes.join(ordenes, on=\"id_cliente\", how=\"inner\")\n",
        "inner_df.show()"
      ],
      "metadata": {
        "colab": {
          "base_uri": "https://localhost:8080/"
        },
        "id": "0MPFIZFfBGEL",
        "outputId": "d249c38f-d6b7-4109-e9a9-6a935d1b565d"
      },
      "execution_count": 13,
      "outputs": [
        {
          "output_type": "stream",
          "name": "stdout",
          "text": [
            "+----------+------+--------+-----+\n",
            "|id_cliente|nombre|id_orden|monto|\n",
            "+----------+------+--------+-----+\n",
            "|         1|   Ana|      10|300.0|\n",
            "|         1|   Ana|      11|150.0|\n",
            "+----------+------+--------+-----+\n",
            "\n"
          ]
        }
      ]
    },
    {
      "cell_type": "markdown",
      "source": [
        "Tipos de Joins\n",
        "1. inner o inner join lo que haga match entre ambas tablas\n",
        "2. left todo lo de la tabla izquierda que coincida con la derecha de la tabla 2\n",
        "3. right todo lo de la tabla derecha que coinicda con la izquiera (tabla2)\n",
        "4. full o outer te traes todo de ambas tablas hasta nulos\n",
        "5. cross"
      ],
      "metadata": {
        "id": "XPKNZLV1AbIu"
      }
    }
  ]
}