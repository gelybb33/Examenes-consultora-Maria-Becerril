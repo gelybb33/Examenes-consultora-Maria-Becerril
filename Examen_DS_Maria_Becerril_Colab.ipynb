{
  "cells": [
    {
      "cell_type": "markdown",
      "metadata": {
        "id": "view-in-github",
        "colab_type": "text"
      },
      "source": [
        "<a href=\"https://colab.research.google.com/github/gelybb33/Examenes-consultora-Maria-Becerril/blob/main/Examen_DS_Maria_Becerril_Colab.ipynb\" target=\"_parent\"><img src=\"https://colab.research.google.com/assets/colab-badge.svg\" alt=\"Open In Colab\"/></a>"
      ]
    },
    {
      "cell_type": "markdown",
      "id": "2e051462",
      "metadata": {
        "id": "2e051462"
      },
      "source": [
        "# Examen DS Maria Becerril"
      ]
    },
    {
      "cell_type": "markdown",
      "id": "51491930",
      "metadata": {
        "id": "51491930"
      },
      "source": [
        "\n",
        "## 1) Teorema de Bayes: explicación y ejemplo\n",
        "\n",
        "Explica con tus palabras el teorema de Bayes y da un ejemplo de cómo lo aplicarías en un problema de clasificación.\n",
        "\n",
        "Probabilidad de un evento dado que ocurrió otro o una serie de eventos\n",
        "\n",
        "\\(P(𝑗/𝒙)=(𝑃(𝑗)𝑃(𝒙|𝑗))/𝑃(𝒙)\\)\n",
        "\n",
        "\\(𝑃(𝒙|𝑗)=\\) Probabilidad de x dado que el evento j suceda  \n",
        "\\(P(𝑗/𝒙)=\\) Probabilidad de que j ocurra dado que x sucede  \n",
        "\\(P(x)=\\) Probabilidad de que x ocurra  \n",
        "\\(P(j)=\\) Probabilidad de que j ocurra  \n",
        "\n",
        "**Ejemplo Bayes:**  \n",
        "Queremos saber la probabilidad de que los enfermos de gripa e influenza puedan tener o no sintomas.\n",
        "\n",
        "P (y= sintomatico, x= Gripa & Influenza) = .6 \\*.5\\*.25 = .075  \n",
        "P (y= asintomatico, x= Gripa & Influenza) = .4 \\* .6 \\* .2 = .048  \n",
        "P(x= Gripa & Influenza) = .075 + .048 = .123  \n",
        "P (y= sintomatico, x= Gripa & Influenza) = .075 / .123 = .61  \n",
        "P (y= asintomatico, x= Gripa & Influenza) .048 / .123 = .39  \n",
        "\n",
        "Existe un 61% de que los enfermos de Gripa e Influenza tengan síntomas, y un 39% de que los enfermos de Gripa e Influenza sean asintomáticos.\n"
      ]
    },
    {
      "cell_type": "code",
      "execution_count": 1,
      "id": "754c7435",
      "metadata": {
        "colab": {
          "base_uri": "https://localhost:8080/"
        },
        "id": "754c7435",
        "outputId": "d0ccf456-68bd-4ff2-ba34-87f462b43dac"
      },
      "outputs": [
        {
          "output_type": "stream",
          "name": "stdout",
          "text": [
            "P(y=sintomático | x=gripa&influenza) = 0.61\n",
            "P(y=asintomático | x=gripa&influenza) = 0.39\n"
          ]
        }
      ],
      "source": [
        "\n",
        "# Ejemplo bayes Python\n",
        "p_sym = 0.6\n",
        "p_gripa = 0.5\n",
        "p_infl = 0.25\n",
        "p_asym = 0.4\n",
        "p_gripa_alt = 0.6\n",
        "p_infl_alt = 0.2\n",
        "\n",
        "p_yx_sym = p_sym * p_gripa * p_infl      # 0.075\n",
        "p_yx_asym = p_asym * p_gripa_alt * p_infl_alt  # 0.048\n",
        "p_x = p_yx_sym + p_yx_asym               # 0.123\n",
        "\n",
        "post_sym = p_yx_sym / p_x\n",
        "post_asym = p_yx_asym / p_x\n",
        "\n",
        "print(\"P(y=sintomático | x=gripa&influenza) =\", round(post_sym, 3))\n",
        "print(\"P(y=asintomático | x=gripa&influenza) =\", round(post_asym, 3))\n"
      ]
    },
    {
      "cell_type": "markdown",
      "id": "c6b9bc10",
      "metadata": {
        "id": "c6b9bc10"
      },
      "source": [
        "\n",
        "## 2) Deserción universitaria con sensibilidad/especificidad\n",
        "\n",
        "**Planteamiento:** En una universidad, el 2% de los estudiantes desertan en el primer semestre. Un modelo de riesgo detecta correctamente a un desertor con probabilidad 0.9 (sensibilidad) y a un no desertor con probabilidad 0.8 (especificidad).  \n",
        "\n",
        "**a) ¿Cuál es la probabilidad de que un estudiante clasificado como desertor realmente lo sea?**\n",
        "\n",
        "Estamos buscando la tasa verdaderos positivos, siendo el desertor  \n",
        "P(cd|d) = .9  \n",
        "P(d)=.02  \n",
        "P(d¬) = .98  \n",
        "P(cd)= Probabilidad clasificado como desertor\n",
        "\n",
        "P(d|cd)= Probabilidad de un desertor dado que se clasifico como desertor  \n",
        "\\(P(d|cd)=(P(cd|d)P(d))/(P(cd│d)P(d)+ P(cd│d¬)P(d¬) )\\)\n",
        "\n",
        "\\(P(d│cd) =(.9 \\* .02)/((.9 \\* .02)+(.2 \\* .098) )= .018/.214\\)  \n",
        "**\\(P(d|cd) = 0.084\\)**\n",
        "\n",
        "**b) Interpretación **\n",
        "Existe un 8.4% de probabilidad de que un estudiante que ha sido clasificado como desertor lo sea; es decir que, tomando como target a los desertores, la tasa de clasificación de verdaderos positivas es muy baja. Aunque la sensibilidad (detección correcta de desertores reales) y especificidad (detección correcta de los que no desertan) del modelo (.9 & .8) son datos realmente altos. Aquí como opción no descartaría el modelo, y propondría si bien ya no se puede aumentar la tasa de verdaderos positivos lo optaría para obtener los falsos positivos.\n"
      ]
    },
    {
      "cell_type": "code",
      "execution_count": 2,
      "id": "80b72e1b",
      "metadata": {
        "colab": {
          "base_uri": "https://localhost:8080/"
        },
        "id": "80b72e1b",
        "outputId": "2e8b2457-e0c0-4e14-9a4e-1791bb0749c5"
      },
      "outputs": [
        {
          "output_type": "stream",
          "name": "stdout",
          "text": [
            "PPV (P(d=1|clasificado como desertor)) = 0.084\n"
          ]
        }
      ],
      "source": [
        "\n",
        "# Ejemplo 2 desertores Python\n",
        "sens = 0.9      # TPR\n",
        "spec = 0.8      # TNR\n",
        "prev = 0.02     # prevalencia P(d=1)\n",
        "\n",
        "ppv = (sens*prev) / (sens*prev + (1-spec)*(1-prev))\n",
        "print(\"PPV (P(d=1|clasificado como desertor)) =\", round(ppv, 3))  # 0.084\n"
      ]
    },
    {
      "cell_type": "markdown",
      "id": "589aa562",
      "metadata": {
        "id": "589aa562"
      },
      "source": [
        "\n",
        "## 3) ¿Cuándo usar a priori uniforme vs. estimarla con histórico?\n",
        "Cuándo usar apriori uniforme?  \n",
        "Basandonos del concepto donde la a priori uniforme significa que asignamos la misma probabilidad a todos los valores posibles del parámetro dentro de un rango definido. Por lo que se usa cuando no se tiene información previa. También se puede optar por su uso cuando el target se encuentra equilibrado esperas la misma probabilidad de resultado en cualquier valor que pueda tomar.\n",
        "\n",
        "Cuando conviene estimarla con información histórica?  \n",
        "Cuando se tiene información histórica representativa y verdadera se optaría por estimarla, para estabilizar estimaciones, así mismo el histórico puede ayudar a entender fluctuaciones o eventos atípicos en la información que sean recurrentes.\n"
      ]
    },
    {
      "cell_type": "code",
      "execution_count": 3,
      "id": "1caa9843",
      "metadata": {
        "colab": {
          "base_uri": "https://localhost:8080/"
        },
        "id": "1caa9843",
        "outputId": "33d1755e-fa85-4c49-82a5-046db7e0ab66"
      },
      "outputs": [
        {
          "output_type": "stream",
          "name": "stdout",
          "text": [
            "Posterior media con prior uniforme  : 0.0294\n",
            "Posterior media con prior histórica : 0.0202\n"
          ]
        }
      ],
      "source": [
        "\n",
        "# Ejemplo adicional (Python) — actualización Beta-Binomial con prior uniforme vs. informada\n",
        "import numpy as np\n",
        "\n",
        "alpha_u, beta_u = 1, 1    # prior uniforme Beta(1,1)\n",
        "alpha_i, beta_i = 101, 4901  # prior histórica ~2% (ejemplo)\n",
        "\n",
        "obs_pos, obs_neg = 2, 98  # observaciones nuevas (ejemplo)\n",
        "\n",
        "post_u = (alpha_u+obs_pos, beta_u+obs_neg)\n",
        "post_i = (alpha_i+obs_pos, beta_i+obs_neg)\n",
        "\n",
        "mean_u = (post_u[0])/(post_u[0]+post_u[1])\n",
        "mean_i = (post_i[0])/(post_i[0]+post_i[1])\n",
        "\n",
        "print(\"Posterior media con prior uniforme  :\", round(mean_u, 4))\n",
        "print(\"Posterior media con prior histórica :\", round(mean_i, 4))\n"
      ]
    },
    {
      "cell_type": "markdown",
      "id": "e705cca2",
      "metadata": {
        "id": "e705cca2"
      },
      "source": [
        "\n",
        "## 4) K-Fold vs. LOO vs. Hold-out\n",
        "\n",
        "**KFOLD**:\n",
        "-Partes los datos en k, entrenas k veces validando cada fold y promedias al ultimo.\n",
        "-Tiene variantes con aplicaciones para grupos y series de tiempo\n",
        "-Más estable y costoso\n",
        "**LOO**:\n",
        "-Muestras muy pequeñas con varianza alta, puede tener costos computacionales altos\n",
        "-Cuando quieres minimizar el sesgo del estimador de error tomando en cuenta que tu varianza aumentara\n",
        "-No usarlo cuando el modelo es no lineal\n",
        "-Poco sesgo pero alta varianza\n",
        "**Hold-Out**:\n",
        "-Es rápido y para datasets grandes\n",
        "-Si te preocupa el efecto en la varianza puedes hacer multiples split y promedio para ponderarla\n",
        "-Más rapido pero ruidoso\n",
        "\n",
        "\n",
        "\n",
        "\n"
      ]
    },
    {
      "cell_type": "markdown",
      "id": "6190fa87",
      "metadata": {
        "id": "6190fa87"
      },
      "source": [
        "\n",
        "## 5) Métricas y mejora sin perder interpretabilidad. Tienes un modelo de clasificación con las siguientes métricas en validación: - Accuracy: 92% - Precision (positiva): 50% - Recall (positiva): 20% a) ¿Qué problema estás observando en el modelo? b) ¿Qué estrategia usarías para mejorar el desempeño sin perder interpretabilidad?\n",
        "Accuracy = 92%  \n",
        "Precision(+) = 50%  \n",
        "Recall(+) = 20%  \n",
        "Aunque en primera instancia tiene un accuracy alto, tenemos un 20% detectar los Verdaderos positivos, por lo que se tiene un 80% de detectar los Falsos negativos  \n",
        "La precisión 50 nos dice que la mitad de los casos que se marcaron como positivos realmente eran positivo\n",
        "\n",
        "2. ¿Cómo mejoro sin perder interpretabilidad?  \n",
        "Como subir el recall, sin perder interpretabilidad?  \n",
        "Utilizar otra métrica de validación adecuada como PR-AUC área bajo la curva no accuracy. PR-AUC resume esa curva en un solo número: cuanto más alto, mejor el modelo para mantener alta precisión cuando empujas el recall.  \n",
        "Para dar más peso a la clase positiva usamos class_weight=\"balanced\".  \n",
        "•  Ajuste de umbral (post-entrenamiento): no uses 0.5 por defecto.  \n",
        "•  Bajar el umbral : etiquetas más casos como positivos ⇒ sube el recall (TPR) y también suben los FP (baja la precisión, sube FPR, baja especificidad).  \n",
        "•  Subir el umbral : etiquetas menos casos como positivos ⇒ baja el recall, pero suele subir la precisión. El umbral es tu palanca directa sobre el recall. Bajar el umbral aumenta recall (a costa de más FP); elige el punto operativo con una regla explícita\n",
        "\n"
      ]
    },
    {
      "cell_type": "markdown",
      "id": "3ee94948",
      "metadata": {
        "id": "3ee94948"
      },
      "source": [
        "\n",
        "## 6) AUC=0.78 e umbral óptimo por costos. Imagina que entrenaste un modelo de regresión logística y obtienes una curva ROC con un AUC de 0.78. a) Qué significa este valor en términos de discriminación.\n",
        "\n",
        "Qué significa AUC = 0.78?  \n",
        "Como sabemos el ROC–AUC en logística mide qué tan bien el modelo ordena positivos por encima de negativos para todos los umbrales. Existe un 78% de probabilidad de que un positivo real reciba un score mayor que un negativo aleatorio. Tomando que el valor aleatorio por default, es un 50% de probabilidad de que discrimine un positivo real de un negativo, interpreto que esta sobre el aleatorio y es una buena regla.\n",
        "\n",
        "**b) Umbral óptimo por costos (original):**  \n",
        "Minimiza el costo esperado en validación usando TPR/FPR para cada umbral:  \n",
        "\\(Costo(τ) = π·C_{FN}·(1−TPR(τ)) + (1−π)·C_{FP}·FPR(τ)\\)  \n",
        "π = prevalencia (P(y=1)) medida en tu val original  \n",
        "Recorres los umbrales, calculas TPR/FPR y eliges el τ que minimiza ese costo.  \n",
        "Equivalente geométrico en la ROC: usa iso-cost lines con pendiente  \n",
        "\\(m = (C_{FP}·(1−π)) / (C_{FN}·π)\\)\n",
        "\n",
        "**Mini-ejemplo numérico (original, calibrado):**\n",
        "Supón probabilidades en validación:  \n",
        "\\(\\hat p = [0.85, 0.62, 0.40, 0.15, 0.08, 0.03]\\)  \n",
        "y reales: \\(y = [1, 1, 0, 1, 0, 0]\\)  \n",
        "Costos: \\(C_{FN}=5, C_{FP}=1 ⇒ τ^* = 1/(1+5)=0.1667\\)  \n",
        "Predices 1 si \\(\\hat p ≥ 0.1667\\) ⇒ predicciones: [1,1,1,0,0,0]  \n",
        "Errores: FP: elemento 3 ⇒ 1 FP; FN: elemento 4 ⇒ 1 FN  \n",
        "Costo total = 6  \n",
        "\n",
        "Si usaras por defecto τ=0.5 ⇒ predicciones [1,1,0,0,0,0] ⇒ FP: 0; FN: 1 ⇒ Costo total = 5.\n"
      ]
    },
    {
      "cell_type": "code",
      "execution_count": 4,
      "id": "108adaeb",
      "metadata": {
        "colab": {
          "base_uri": "https://localhost:8080/"
        },
        "id": "108adaeb",
        "outputId": "aa1971aa-c681-47dc-ec12-1465560ad7ef"
      },
      "outputs": [
        {
          "output_type": "stream",
          "name": "stdout",
          "text": [
            "Costo en τ*≈0.1667: 6 | FP, FN = 1 1\n",
            "Costo en τ=0.5    : 5 | FP, FN = 0 1\n"
          ]
        }
      ],
      "source": [
        "\n",
        "# Ejemplo en Python — calcular el costo del ejemplo original en ambos umbrales\n",
        "import numpy as np\n",
        "\n",
        "p = np.array([0.85, 0.62, 0.40, 0.15, 0.08, 0.03])\n",
        "y = np.array([1,1,0,1,0,0])\n",
        "C_FN, C_FP = 5, 1\n",
        "tau = 1/(1+C_FN)  # 0.1667\n",
        "\n",
        "def cost_at(t):\n",
        "    yhat = (p >= t).astype(int)\n",
        "    FP = int(((yhat==1)&(y==0)).sum())\n",
        "    FN = int(((yhat==0)&(y==1)).sum())\n",
        "    return C_FN*FN + C_FP*FP, FP, FN\n",
        "\n",
        "c1, fp1, fn1 = cost_at(tau)\n",
        "c2, fp2, fn2 = cost_at(0.5)\n",
        "\n",
        "print(\"Costo en τ*≈0.1667:\", c1, \"| FP, FN =\", fp1, fn1)\n",
        "print(\"Costo en τ=0.5    :\", c2, \"| FP, FN =\", fp2, fn2)\n"
      ]
    },
    {
      "cell_type": "markdown",
      "id": "496cc3a1",
      "metadata": {
        "id": "496cc3a1"
      },
      "source": [
        "\n",
        "## 7) Regresión lineal múltiple vs. regularizada (Ridge/Lasso)\n",
        "1) Regresión lineal múltiple (OLS)  \n",
        "Estimadores insesgados bajo supuestos clásicos (linealidad, homocedasticidad, no multicolinealidad fuerte).  \n",
        "Varianza alta si hay pocas observaciones, muchos predictores o multicolinealidad.  \n",
        "Poca colinealidad  \n",
        "Se usa cuando tienes pocos predictores, bien elegidos, con baja colinealidad, y un n grande.\n",
        "\n",
        "2) Regresión regularizada  \n",
        "**Ridge (L2)**  \n",
        "Efecto: Busca disminuir coeficientes a 0, sin llegar a 0.  \n",
        "Reduce varianza y mejora generalización.  \n",
        "Excelente con muchos predictores correlacionados (estabiliza al “repartir” peso entre ellos).  \n",
        "Se puede usar cuando se tiene una correlación alta entre variables y no puedes decidir que variable dejar o quieres usar varias variable correlacioandas  \n",
        "Quieres estabilidad más que selección estricta de variables.\n",
        "\n",
        "**Lasso (L1)**  \n",
        "Útil cuando hay muchos predictores irrelevantes.  \n",
        "Con predictores muy correlacionados, Lasso tiende a elegir uno y descartar el resto  \n",
        "Se usa cuando queremos reducir el conjunto de variables a un subconjunto mas pequeño.  \n",
        "También si comportamientos raros y muchos de ellos son ruido\n",
        "\n",
        "**En Resumen:**  \n",
        "- Regresión múltiple: pocas variables, sin multicolinealidad (p.ej., afluencia a restaurante).  \n",
        "- Lasso: dataset grande para seleccionar variables (ej. INEGI).  \n",
        "- Ridge: variables correlacionadas (estatura, peso, edad en nado).\n"
      ]
    },
    {
      "cell_type": "markdown",
      "source": [
        "**Ejemplos de cuando usaria y quetipo de Regresion Multiple**:\n",
        "##Ejemplo regresión multiple:\n",
        "Tienes pocas variables, no hay multicolinealidad, Lo puedes usar para predecir las entradas de personas a un restaurante, usando si tienen hijos, si comen o cenan (variables que no esten correlacionadas y un data set chico ..)\n",
        "##Ejemplo regresión lasso:\n",
        "Cuando tienes data sets mas grandes y quieres discriminar por las que contienen mayor información para el modelo, ejemplo tienes 100 variables en un base del inegi para saber el nivel de endeudamiento, con lasso puedes discriminar esto.\n",
        "##Ejemplo regresión Ridge:\n",
        "Quieres conocer por que en una competencia de nado los participantes son mas veloces, y tienes variables como estatura, peso, edad que generalmente están correlacionadas, con ridge puedes dejarlas en el modelo ..\n"
      ],
      "metadata": {
        "id": "dumsZperVYHU"
      },
      "id": "dumsZperVYHU"
    },
    {
      "cell_type": "markdown",
      "id": "6d21e68d",
      "metadata": {
        "id": "6d21e68d"
      },
      "source": [
        "\n",
        "## 8) Error en train vs. validation. Supón que al ajustar un modelo de regresión lineal obtienes: - Training error = 0.02 - Validation error = 0.30\n",
        "a) ¿Qué está ocurriendo?  \n",
        "Con training error = 0.02 y validation error = 0.30 estamos diciendo que el modleo comete un error del 2% con los datos, ósea casi 0 error y luego el error de la validación aumenta un 30%, por lo que lo traduzco que tiene excelente interpretación para el set de entrenamiento, lo que ocasiono una mala interpretación para el set de validación o general.\n",
        "\n",
        "b) ¿Qué acciones tomar para corregirlo?  \n",
        "Revisar que no haya una variable que me este generando ruido, artificial, o algun input realizado anteriormente.  \n",
        "•  Usar un modelo más simple (menos parámetros, regularización).  \n",
        "•  Aumentar datos de entrenamiento.  \n",
        "•  Aplicar técnicas como cross-validation, early stopping, dropout (en redes), etc.\n"
      ]
    },
    {
      "cell_type": "markdown",
      "id": "8765653c",
      "metadata": {
        "id": "8765653c"
      },
      "source": [
        "\n",
        "## 9) Trade-off sesgo–varianza. Define y ejemplifica el trade-off entre sesgo y varianza. Da un ejemplo aplicado a un modelo predictivo en educación.\n",
        "Qué es el trade-off sesgo–varianza?  \n",
        "El sesgo es el error sistemático por usar un modelo demasiado simple o mal especificado (subajuste).Y la varianza es que tanto pueden cambiar las predicciones si reentrenas con diferentes muestras; suele crecer con modelos muy complejos.  \n",
        "El trade-off entre sesgo y varianza consiste en mantener un equilibrio ya que si bajas el sesgo se sube la varianza por lo que el objetivo es buscar un intermedio.\n",
        "\n",
        "Señales prácticas  \n",
        "subajuste: alto sesgo, error alto en train y valid; curvas de aprendizaje planas.  \n",
        "sobreajuste: alta varianza, error train bajo, pero  valid notablemente peor.\n",
        "\n",
        "**Ejemplo original (educación):**\n",
        "Supongamos que queremos predecir si un estudiante aprobará un curso en función de:\n",
        "•\tHoras de estudio por semana\n",
        "•\tAsistencia a clase\n",
        "•\tEntrega de tareas\n",
        "##Caso 1: Modelo con alto sesgo\n",
        "Usamos una regresión lineal con solo una variable (horas de estudio).\n",
        "•\tEl modelo depende de las horas de estudio unicamnete para predecir, dejando afuera más variables\n",
        "•\tResultado: hace predicciones muy generales\n",
        "•\tProblema: subajuste → muchas predicciones incorrectas.\n",
        "##Caso 2: Modelo con alta varianza\n",
        "Usamos un árbol de decisión muy profundo que memoriza cada combinación de horas, asistencia y tareas. Osea se esta sobreajustando y repitiendo muchas veces la misma información.\n",
        "•\tEn el train, predice perfecto.\n",
        "•\tPero en test, falla mucho porque memorizó los datos en lugar de aprender el patrón general.\n",
        "•\tProblema: sobreajuste → baja generalización.\n",
        "##Caso Ideal con Varianza y sesgo ajustado\n",
        "Usamos un árbol de decisión podado o un Random Forest con pocos niveles.\n",
        "•\tUsando todas las variables para interpretar (horas de estudio + asistencia + tareas)\n",
        "•\tResultado esperado: error bajo en train y en valid/test.\n",
        "\n"
      ]
    },
    {
      "cell_type": "markdown",
      "id": "69829e80",
      "metadata": {
        "id": "69829e80"
      },
      "source": [
        "\n",
        "## 10) Estás construyendo un modelo para predecir el abandono estudiantil. El VP de Operaciones te dice que “lo único que importa es el accuracy”.\n",
        "** a) ¿Qué le responderías? **\n",
        "Si bien el accuracy es muy útil para la predicción del modelo, le explicaría que existen otras métricas orientadas a decisión como  Recall, Precision, PR-AUC, Recall@capacidad y métodos para fijar el umbral óptimo y demostrar otros impactos.\n",
        "Tomando el ejemplo del abandono estudiantil, suponiendo que el accuracy es del 98%.Esto me dice que el modelo  siempre va a predecir que NO deserta, pero no rescata a nadie (recall = 0). Accuracy no dice a quién ayudaremos ni cuánto ahorro/impacto logramos.\n",
        "\n",
        "**b) ¿Qué otras métricas usaría y por qué?  **\n",
        "Recall (sensibilidad) de la clase “deserta”  \n",
        "Mide cuántos desertores detectas. Es clave si el FN (no intervenir a quien sí desertará) es costoso.  \n",
        "Precision (PPV)  \n",
        "Mide cuántos de los señalados realmente desertan. Importa si los recursos de intervención son limitados (evitar contactos inútiles).  \n",
        "PR-AUC (Precision–Recall AUC)  \n",
        "Mejor que ROC-AUC en clases desbalanceadas; resume el desempeño en distintos umbrales.  \n",
        "Calibración (Brier score, curva de calibración)  \n",
        "Probabilidades bien calibradas permiten priorizar: 0.70 debe significar ~70% de riesgo. Vital para asignar becas, tutorías, llamadas.  \n",
        "Balanced accuracy / MCC  \n",
        "Alternativas robustas a accuracy bajo desbalance.  \n",
        "recall/paridad por carrera, campus, género, nivel socioeconómico.\n"
      ]
    }
  ],
  "metadata": {
    "colab": {
      "provenance": [],
      "include_colab_link": true
    },
    "language_info": {
      "name": "python"
    },
    "kernelspec": {
      "name": "python3",
      "display_name": "Python 3"
    }
  },
  "nbformat": 4,
  "nbformat_minor": 5
}
